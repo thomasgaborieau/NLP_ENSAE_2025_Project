{
  "nbformat": 4,
  "nbformat_minor": 0,
  "metadata": {
    "colab": {
      "provenance": []
    },
    "kernelspec": {
      "name": "python3",
      "display_name": "Python 3"
    },
    "language_info": {
      "name": "python"
    }
  },
  "cells": [
    {
      "cell_type": "code",
      "execution_count": 1,
      "metadata": {
        "id": "nPNq5bhZ-Lyo"
      },
      "outputs": [],
      "source": [
        "# !pip install --force-reinstall numpy==1.23.5 scipy==1.10.1 gensim==4.3.1\n",
        "\n",
        "import pandas as pd\n",
        "import numpy as np\n",
        "from gensim.models import KeyedVectors\n",
        "from sklearn.linear_model import LogisticRegression\n",
        "from sklearn.metrics import classification_report\n",
        "from sklearn.preprocessing import LabelEncoder\n",
        "from tqdm import tqdm"
      ]
    },
    {
      "cell_type": "code",
      "source": [
        "# Download pretrained French FastText embeddings\n",
        "!wget -O cc.fr.300.vec.gz https://dl.fbaipublicfiles.com/fasttext/vectors-crawl/cc.fr.300.vec.gz\n",
        "\n",
        "# Load the vectors\n",
        "# fasttext = KeyedVectors.load_word2vec_format(\"cc.fr.300.vec.gz\", binary=False)\n",
        "fasttext = KeyedVectors.load_word2vec_format(\"cc.fr.300.vec.gz\", binary=False, limit=500_000)\n",
        "\n",
        "# Check\n",
        "print(\"Vector size:\", fasttext.vector_size)\n",
        "print(\"Sample vector for 'Paris':\", fasttext[\"Paris\"][:10])"
      ],
      "metadata": {
        "colab": {
          "base_uri": "https://localhost:8080/"
        },
        "id": "7311Q1mt_UzI",
        "outputId": "ea7aeaa7-9d6a-4be1-cdae-9fe66601ddd9"
      },
      "execution_count": 4,
      "outputs": [
        {
          "output_type": "stream",
          "name": "stdout",
          "text": [
            "--2025-05-03 21:18:24--  https://dl.fbaipublicfiles.com/fasttext/vectors-crawl/cc.fr.300.vec.gz\n",
            "Resolving dl.fbaipublicfiles.com (dl.fbaipublicfiles.com)... 18.173.166.74, 18.173.166.51, 18.173.166.31, ...\n",
            "Connecting to dl.fbaipublicfiles.com (dl.fbaipublicfiles.com)|18.173.166.74|:443... connected.\n",
            "HTTP request sent, awaiting response... 200 OK\n",
            "Length: 1287757366 (1.2G) [binary/octet-stream]\n",
            "Saving to: ‘cc.fr.300.vec.gz’\n",
            "\n",
            "cc.fr.300.vec.gz    100%[===================>]   1.20G  84.9MB/s    in 15s     \n",
            "\n",
            "2025-05-03 21:18:39 (82.9 MB/s) - ‘cc.fr.300.vec.gz’ saved [1287757366/1287757366]\n",
            "\n",
            "Vector size: 300\n",
            "Sample vector for 'Paris': [ 0.0349 -0.0034  0.0415 -0.0239  0.0604  0.0683  0.0352 -0.0098  0.0651\n",
            " -0.016 ]\n"
          ]
        }
      ]
    },
    {
      "cell_type": "code",
      "source": [
        "# Load dataset (you can modify these paths)\n",
        "train_df = pd.read_csv(\"/content/HIPE-2022-v2.1-letemps-train-fr.tsv\",\n",
        "                       sep=\"\\t\",\n",
        "                       comment=\"#\",\n",
        "                       quoting=3,\n",
        "                       names=[\n",
        "    \"TOKEN\", \"NE-COARSE-LIT\", \"NE-COARSE-METO\", \"NE-FINE-LIT\", \"NE-FINE-METO\", \"NE-FINE-COMP\", \"NE-NESTED\", \"NEL-LIT\", \"NEL-METO\", \"MISC\"\n",
        "])\n",
        "test_df = pd.read_csv(\"/content/HIPE-2022-v2.1-letemps-test-fr.tsv\",\n",
        "                      sep=\"\\t\",\n",
        "                      comment=\"#\",\n",
        "                      quoting=3,\n",
        "                      names=[\n",
        "    \"TOKEN\", \"NE-COARSE-LIT\", \"NE-COARSE-METO\", \"NE-FINE-LIT\", \"NE-FINE-METO\", \"NE-FINE-COMP\", \"NE-NESTED\", \"NEL-LIT\", \"NEL-METO\", \"MISC\"\n",
        "])\n",
        "\n",
        "# Drop empty tokens\n",
        "train_df = train_df.dropna(subset=[\"TOKEN\", \"NE-COARSE-LIT\"])\n",
        "test_df = test_df.dropna(subset=[\"TOKEN\", \"NE-COARSE-LIT\"])\n"
      ],
      "metadata": {
        "id": "IIUs4CK7BRDX"
      },
      "execution_count": 5,
      "outputs": []
    },
    {
      "cell_type": "code",
      "source": [
        "def tokens_to_vectors(df, fasttext_model):\n",
        "    vectors, labels = [], []\n",
        "    unk_vector = np.zeros(fasttext_model.vector_size)\n",
        "\n",
        "    for _, row in tqdm(df.iterrows(), total=len(df)):\n",
        "        token = row[\"TOKEN\"]\n",
        "        label = row[\"NE-COARSE-LIT\"]\n",
        "        vec = fasttext_model[token] if token in fasttext_model else unk_vector\n",
        "        vectors.append(vec)\n",
        "        labels.append(label)\n",
        "\n",
        "    return np.array(vectors), np.array(labels)\n",
        "\n",
        "X_train, y_train = tokens_to_vectors(train_df, fasttext)\n",
        "X_test, y_test = tokens_to_vectors(test_df, fasttext)\n",
        "\n",
        "# Encode labels\n",
        "le = LabelEncoder()\n",
        "y_train_enc = le.fit_transform(y_train)\n",
        "y_test_enc = le.transform(y_test)"
      ],
      "metadata": {
        "colab": {
          "base_uri": "https://localhost:8080/"
        },
        "id": "-1YoK880Bl5n",
        "outputId": "44091ed5-127e-4a61-e650-c523d5a9d096"
      },
      "execution_count": 6,
      "outputs": [
        {
          "output_type": "stream",
          "name": "stderr",
          "text": [
            "100%|██████████| 379481/379481 [00:25<00:00, 14763.57it/s]\n",
            "100%|██████████| 48469/48469 [00:02<00:00, 20277.57it/s]\n"
          ]
        }
      ]
    },
    {
      "cell_type": "code",
      "source": [
        "clf = LogisticRegression(max_iter=1000)\n",
        "clf.fit(X_train, y_train_enc)\n",
        "y_pred = clf.predict(X_test)\n",
        "\n",
        "# Decode labels\n",
        "y_pred_labels = le.inverse_transform(y_pred)\n",
        "y_test_labels = le.inverse_transform(y_test_enc)\n",
        "\n",
        "print(\"Classification Report (Token-Level):\")\n",
        "print(classification_report(y_test_labels, y_pred_labels))"
      ],
      "metadata": {
        "colab": {
          "base_uri": "https://localhost:8080/"
        },
        "id": "yOSXCQs-BrTK",
        "outputId": "3ef0f784-b232-4859-9642-9db8e0b06935"
      },
      "execution_count": 7,
      "outputs": [
        {
          "output_type": "stream",
          "name": "stdout",
          "text": [
            "Classification Report (Token-Level):\n",
            "               precision    recall  f1-score   support\n",
            "\n",
            "        B-loc       0.52      0.58      0.55       591\n",
            "        B-org       0.00      0.00      0.00        79\n",
            "       B-pers       0.52      0.40      0.46       347\n",
            "        I-loc       0.56      0.03      0.06       151\n",
            "        I-org       0.00      0.00      0.00       130\n",
            "       I-pers       0.26      0.07      0.11       428\n",
            "NE-COARSE-LIT       0.00      0.00      0.00         1\n",
            "            O       0.98      0.99      0.98     46742\n",
            "\n",
            "     accuracy                           0.97     48469\n",
            "    macro avg       0.35      0.26      0.27     48469\n",
            " weighted avg       0.96      0.97      0.96     48469\n",
            "\n"
          ]
        },
        {
          "output_type": "stream",
          "name": "stderr",
          "text": [
            "/usr/local/lib/python3.11/dist-packages/sklearn/metrics/_classification.py:1565: UndefinedMetricWarning: Precision is ill-defined and being set to 0.0 in labels with no predicted samples. Use `zero_division` parameter to control this behavior.\n",
            "  _warn_prf(average, modifier, f\"{metric.capitalize()} is\", len(result))\n",
            "/usr/local/lib/python3.11/dist-packages/sklearn/metrics/_classification.py:1565: UndefinedMetricWarning: Precision is ill-defined and being set to 0.0 in labels with no predicted samples. Use `zero_division` parameter to control this behavior.\n",
            "  _warn_prf(average, modifier, f\"{metric.capitalize()} is\", len(result))\n",
            "/usr/local/lib/python3.11/dist-packages/sklearn/metrics/_classification.py:1565: UndefinedMetricWarning: Precision is ill-defined and being set to 0.0 in labels with no predicted samples. Use `zero_division` parameter to control this behavior.\n",
            "  _warn_prf(average, modifier, f\"{metric.capitalize()} is\", len(result))\n"
          ]
        }
      ]
    }
  ]
}